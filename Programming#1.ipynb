{
  "nbformat": 4,
  "nbformat_minor": 0,
  "metadata": {
    "colab": {
      "provenance": [],
      "authorship_tag": "ABX9TyOiYBsYBeqpB1KWLmhQ1xLW",
      "include_colab_link": true
    },
    "kernelspec": {
      "name": "python3",
      "display_name": "Python 3"
    },
    "language_info": {
      "name": "python"
    }
  },
  "cells": [
    {
      "cell_type": "markdown",
      "metadata": {
        "id": "view-in-github",
        "colab_type": "text"
      },
      "source": [
        "<a href=\"https://colab.research.google.com/github/davekgw/Object_Orientade_Programming-2/blob/main/Programming%231.ipynb\" target=\"_parent\"><img src=\"https://colab.research.google.com/assets/colab-badge.svg\" alt=\"Open In Colab\"/></a>"
      ]
    },
    {
      "cell_type": "markdown",
      "source": [
        "PROCEDURAL PROGRAMMING"
      ],
      "metadata": {
        "id": "9vbD_PBQlKEg"
      }
    },
    {
      "cell_type": "code",
      "execution_count": null,
      "metadata": {
        "colab": {
          "base_uri": "https://localhost:8080/"
        },
        "id": "h0IYbuKojOFD",
        "outputId": "93154df6-1906-40e5-e8e7-ef1e3873ab44"
      },
      "outputs": [
        {
          "output_type": "stream",
          "name": "stdout",
          "text": [
            "1. parrot is a bird\n",
            "2. sparrow is also a bird\n",
            "3. parrot is parrot years old\n",
            "4. sparrow is 15 years old\n"
          ]
        }
      ],
      "source": [
        "species = \"bird\"\n",
        "parrot_name = \"parrot\"\n",
        "sparrow_name = \"sparrow\"\n",
        "parrot_age = \"10\"\n",
        "sparrow_age = \"15\"\n",
        "\n",
        "print(f\"1. parrot is a {species}\")\n",
        "print(f\"2. sparrow is also a {species}\")\n",
        "print(f\"3. {parrot_name} is {parrot_age} years old\")\n",
        "print(f\"4. {sparrow_name} is {sparrow_age} years old\")"
      ]
    },
    {
      "cell_type": "markdown",
      "source": [
        "FUNCTIONAL PROGRAMMING"
      ],
      "metadata": {
        "id": "QVZK1sM5ljIc"
      }
    },
    {
      "cell_type": "code",
      "source": [
        "#variable\n",
        "species = \"bird\"\n",
        "\n",
        "#method/functions\n",
        "def bird_parrot(name, age):\n",
        "  print(f\"3. {name} is {age} years old\")\n",
        "def bird_sparrow(name, age):\n",
        "  print(f\"4. {name} is {age} years old\")\n",
        "\n",
        "#view variable parrot & sparrow\n",
        "print(f\"1. parrot is a {species}\")\n",
        "print(f\"2. sparrow is also a {species}\")\n",
        "\n",
        "#call functions\n",
        "bird_parrot(\"parrot\", 10)\n",
        "bird_sparrow(\"sparrow\", 15)"
      ],
      "metadata": {
        "colab": {
          "base_uri": "https://localhost:8080/"
        },
        "id": "JM_5rzYgluy5",
        "outputId": "db26a77d-501f-466b-8c25-888faf72a898"
      },
      "execution_count": null,
      "outputs": [
        {
          "output_type": "stream",
          "name": "stdout",
          "text": [
            "1. parrot is a bird\n",
            "2. sparrow is also a bird\n",
            "3. parrot is 10 years old\n",
            "4. sparrow is 15 years old\n"
          ]
        }
      ]
    },
    {
      "cell_type": "markdown",
      "source": [
        "OBJECT ORIENTADE PROGRAMMING"
      ],
      "metadata": {
        "id": "SNMdEJlcnGaQ"
      }
    },
    {
      "cell_type": "code",
      "source": [
        "#create class\n",
        "class animal:\n",
        "  #variable\n",
        "  species = \"bird\"\n",
        "  #method/constructor\n",
        "  def __init__(self, name, age):\n",
        "    self.name = name\n",
        "    self.age = age\n",
        "\n",
        "#create object\n",
        "parrot = animal(\"parrot\", 10)\n",
        "sparrow = animal(\"sparrow\", 15)\n",
        "\n",
        "#view attributes parrot & sparrow\n",
        "print(f\"1. parrot is a {parrot.__class__.species}\")\n",
        "print(f\"2. sparrow is also a {sparrow.__class__.species}\")\n",
        "print(f\"3. {parrot.name} is {parrot.age} years old\")\n",
        "print(f\"4. {sparrow.name} is {sparrow.age} years old\")"
      ],
      "metadata": {
        "colab": {
          "base_uri": "https://localhost:8080/"
        },
        "id": "r1nc5JEPnEs5",
        "outputId": "6bad993b-7825-499f-d5ba-608cc7bf7236"
      },
      "execution_count": null,
      "outputs": [
        {
          "output_type": "stream",
          "name": "stdout",
          "text": [
            "1. parrot is a bird\n",
            "2. sparrow is also a bird\n",
            "3. parrot is 10 years old\n",
            "4. sparrow is 15 years old\n"
          ]
        }
      ]
    },
    {
      "cell_type": "markdown",
      "source": [
        "UBAH FUNCTIONAL PROGRAMMING DIBAWAH INI MENJADI OBJECT ORIENTADE PROGRAMMING!!!"
      ],
      "metadata": {
        "id": "ffpwUuvYrPve"
      }
    },
    {
      "cell_type": "code",
      "source": [
        "import random\n",
        "n = random.randrange(1, 10)\n",
        "guess = int(input(\"Masukkan Angka: \"))\n",
        "\n",
        "while n!= guess:\n",
        "  if guess < n:\n",
        "    print(\"Input less than guess number !!!\")\n",
        "    guess = int(input(\"Enter number again: \"))\n",
        "  elif guess > n:\n",
        "    print(\"Input greater than guess number guessed !!!\")\n",
        "    guess = int(input(\"Enter number again: \"))\n",
        "  else:\n",
        "    break\n",
        "\n",
        "print(\"Tebakan anda BENAR !!!\")"
      ],
      "metadata": {
        "id": "dumBtKpQrPbS"
      },
      "execution_count": null,
      "outputs": []
    },
    {
      "cell_type": "code",
      "source": [
        "import random\n",
        "\n",
        "class oop:\n",
        "    def __init__(self):\n",
        "        self.angka = random.randrange(1, 10)\n",
        "\n",
        "    def guess(self, n):\n",
        "        if n < self.angka:\n",
        "            return \"Input less than guess number !!!\"\n",
        "        elif n > self.angka:\n",
        "            return \"Input greater than guess number guessed !!!\"\n",
        "        else:\n",
        "            return \"Tebakan anda BENAR !!!\"\n",
        "\n",
        "    def play(self):\n",
        "        while True:\n",
        "            user_input = int(input(\"Masukan angka: \"))\n",
        "            result = self.guess(user_input)\n",
        "            print(result)\n",
        "            if result == \"Tebakan anda BENAR !!!\":\n",
        "                break\n",
        "\n",
        "if __name__ == \"__main__\":\n",
        "    number_guesser = oop()\n",
        "    number_guesser.play()"
      ],
      "metadata": {
        "colab": {
          "base_uri": "https://localhost:8080/"
        },
        "id": "ZbLhYjJXsfUh",
        "outputId": "895fa724-3325-4c7a-a07c-7aa34229e958"
      },
      "execution_count": null,
      "outputs": [
        {
          "output_type": "stream",
          "name": "stdout",
          "text": [
            "Masukan angka: 9\n",
            "Input greater than guess number!!!\n",
            "Masukan angka: 6\n",
            "Input less than guess number!!!\n",
            "Masukan angka: 7\n",
            "Input less than guess number!!!\n",
            "Masukan angka: 8\n",
            "Your guess is correct!!!\n"
          ]
        }
      ]
    }
  ]
}